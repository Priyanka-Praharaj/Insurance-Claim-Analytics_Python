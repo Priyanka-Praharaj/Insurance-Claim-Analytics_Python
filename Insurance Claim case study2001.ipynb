{
 "cells": [
  {
   "cell_type": "code",
   "execution_count": 3,
   "id": "ecf01587",
   "metadata": {},
   "outputs": [],
   "source": [
    "import numpy as np\n",
    "import pandas as pd\n",
    "import matplotlib.pyplot as plt\n",
    "import datetime as dt\n",
    "import seaborn as sns\n",
    "import re  \n",
    "\n",
    "#set the graph to show in jupyter notebook\n",
    "%matplotlib inline\n",
    "\n",
    "#set seaborn graph to better style\n",
    "sns.set(style=\"ticks\")\n",
    "\n",
    "from scipy import stats as stats"
   ]
  },
  {
   "cell_type": "markdown",
   "id": "66363eb7",
   "metadata": {},
   "source": [
    "## 1. Import claims_data.csv and cust_data.csv which is provided to you and combine the two datasets appropriately to create a 360-degree view of the data. Use the same for the subsequent questions."
   ]
  },
  {
   "cell_type": "code",
   "execution_count": 15,
   "id": "7bb58f5e",
   "metadata": {},
   "outputs": [],
   "source": [
    "claims_data=pd.read_csv(\"C://Users//PREYANKA//OneDrive//Desktop//Data Science//Python//Case Study//Python Foundation Case Study 3 - Insurance Claims Case Study (1)//insurance claim//claims.csv\")\n",
    "cust_data=pd.read_csv(\"C://Users//PREYANKA//OneDrive//Desktop//Data Science//Python//Case Study//Python Foundation Case Study 3 - Insurance Claims Case Study (1)//insurance claim//cust_demographics.csv\")"
   ]
  },
  {
   "cell_type": "code",
   "execution_count": 20,
   "id": "11e59e74",
   "metadata": {},
   "outputs": [],
   "source": [
    "final_data=pd.merge(left=claims_data,right=cust_data,left_on='customer_id',right_on='CUST_ID',how='left')"
   ]
  },
  {
   "cell_type": "markdown",
   "id": "35f3a084",
   "metadata": {},
   "source": [
    "## 2. Perform a data audit for the datatypes and find out if there are any              mismatch within the current datatypes of the columns and their business significance."
   ]
  },
  {
   "cell_type": "code",
   "execution_count": 22,
   "id": "fed1ddef",
   "metadata": {},
   "outputs": [
    {
     "data": {
      "text/plain": [
       "claim_id                 int64\n",
       "customer_id              int64\n",
       "incident_cause          object\n",
       "claim_date              object\n",
       "claim_area              object\n",
       "police_report           object\n",
       "claim_type              object\n",
       "claim_amount            object\n",
       "total_policy_claims    float64\n",
       "fraudulent              object\n",
       "CUST_ID                float64\n",
       "gender                  object\n",
       "DateOfBirth             object\n",
       "State                   object\n",
       "Contact                 object\n",
       "Segment                 object\n",
       "dtype: object"
      ]
     },
     "execution_count": 22,
     "metadata": {},
     "output_type": "execute_result"
    }
   ],
   "source": [
    "final_data.dtypes"
   ]
  },
  {
   "cell_type": "code",
   "execution_count": 23,
   "id": "96e3e7c9",
   "metadata": {},
   "outputs": [
    {
     "data": {
      "text/html": [
       "<div>\n",
       "<style scoped>\n",
       "    .dataframe tbody tr th:only-of-type {\n",
       "        vertical-align: middle;\n",
       "    }\n",
       "\n",
       "    .dataframe tbody tr th {\n",
       "        vertical-align: top;\n",
       "    }\n",
       "\n",
       "    .dataframe thead th {\n",
       "        text-align: right;\n",
       "    }\n",
       "</style>\n",
       "<table border=\"1\" class=\"dataframe\">\n",
       "  <thead>\n",
       "    <tr style=\"text-align: right;\">\n",
       "      <th></th>\n",
       "      <th>claim_id</th>\n",
       "      <th>customer_id</th>\n",
       "      <th>incident_cause</th>\n",
       "      <th>claim_date</th>\n",
       "      <th>claim_area</th>\n",
       "      <th>police_report</th>\n",
       "      <th>claim_type</th>\n",
       "      <th>claim_amount</th>\n",
       "      <th>total_policy_claims</th>\n",
       "      <th>fraudulent</th>\n",
       "      <th>CUST_ID</th>\n",
       "      <th>gender</th>\n",
       "      <th>DateOfBirth</th>\n",
       "      <th>State</th>\n",
       "      <th>Contact</th>\n",
       "      <th>Segment</th>\n",
       "    </tr>\n",
       "  </thead>\n",
       "  <tbody>\n",
       "    <tr>\n",
       "      <th>0</th>\n",
       "      <td>54004764</td>\n",
       "      <td>21868593</td>\n",
       "      <td>Driver error</td>\n",
       "      <td>11/27/2017</td>\n",
       "      <td>Auto</td>\n",
       "      <td>No</td>\n",
       "      <td>Material only</td>\n",
       "      <td>$2980</td>\n",
       "      <td>1.0</td>\n",
       "      <td>No</td>\n",
       "      <td>21868593.0</td>\n",
       "      <td>Female</td>\n",
       "      <td>12-Jan-79</td>\n",
       "      <td>VT</td>\n",
       "      <td>789-916-8172</td>\n",
       "      <td>Platinum</td>\n",
       "    </tr>\n",
       "    <tr>\n",
       "      <th>1</th>\n",
       "      <td>33985796</td>\n",
       "      <td>75740424</td>\n",
       "      <td>Crime</td>\n",
       "      <td>10/03/2018</td>\n",
       "      <td>Home</td>\n",
       "      <td>Unknown</td>\n",
       "      <td>Material only</td>\n",
       "      <td>$2980</td>\n",
       "      <td>3.0</td>\n",
       "      <td>No</td>\n",
       "      <td>75740424.0</td>\n",
       "      <td>Female</td>\n",
       "      <td>13-Jan-70</td>\n",
       "      <td>ME</td>\n",
       "      <td>265-543-1264</td>\n",
       "      <td>Silver</td>\n",
       "    </tr>\n",
       "    <tr>\n",
       "      <th>2</th>\n",
       "      <td>53522022</td>\n",
       "      <td>30308357</td>\n",
       "      <td>Other driver error</td>\n",
       "      <td>02/02/2018</td>\n",
       "      <td>Auto</td>\n",
       "      <td>No</td>\n",
       "      <td>Material only</td>\n",
       "      <td>$3369.5</td>\n",
       "      <td>1.0</td>\n",
       "      <td>Yes</td>\n",
       "      <td>30308357.0</td>\n",
       "      <td>Female</td>\n",
       "      <td>11-Mar-84</td>\n",
       "      <td>TN</td>\n",
       "      <td>798-631-4758</td>\n",
       "      <td>Silver</td>\n",
       "    </tr>\n",
       "  </tbody>\n",
       "</table>\n",
       "</div>"
      ],
      "text/plain": [
       "   claim_id  customer_id      incident_cause  claim_date claim_area  \\\n",
       "0  54004764     21868593        Driver error  11/27/2017       Auto   \n",
       "1  33985796     75740424               Crime  10/03/2018       Home   \n",
       "2  53522022     30308357  Other driver error  02/02/2018       Auto   \n",
       "\n",
       "  police_report     claim_type claim_amount  total_policy_claims fraudulent  \\\n",
       "0            No  Material only        $2980                  1.0         No   \n",
       "1       Unknown  Material only        $2980                  3.0         No   \n",
       "2            No  Material only      $3369.5                  1.0        Yes   \n",
       "\n",
       "      CUST_ID  gender DateOfBirth State       Contact   Segment  \n",
       "0  21868593.0  Female   12-Jan-79    VT  789-916-8172  Platinum  \n",
       "1  75740424.0  Female   13-Jan-70    ME  265-543-1264    Silver  \n",
       "2  30308357.0  Female   11-Mar-84    TN  798-631-4758    Silver  "
      ]
     },
     "execution_count": 23,
     "metadata": {},
     "output_type": "execute_result"
    }
   ],
   "source": [
    "final_data.head(3)"
   ]
  },
  {
   "cell_type": "raw",
   "id": "39270f38",
   "metadata": {},
   "source": [
    "#### Answer:claim_date,claim_amount,DOB,contact these columns should be in datetime and intformat"
   ]
  },
  {
   "cell_type": "markdown",
   "id": "065828a5",
   "metadata": {},
   "source": [
    "## 3. Convert the column claim_amount to numeric. Use the appropriate modules/attributes to remove the $sign.\n",
    "\n"
   ]
  },
  {
   "cell_type": "code",
   "execution_count": 24,
   "id": "a2544d5a",
   "metadata": {},
   "outputs": [
    {
     "name": "stderr",
     "output_type": "stream",
     "text": [
      "<ipython-input-24-648e96f48914>:1: FutureWarning: The default value of regex will change from True to False in a future version. In addition, single character regular expressions will*not* be treated as literal strings when regex=True.\n",
      "  final_data['claim_amount']=final_data['claim_amount'].str.replace('$','')\n"
     ]
    }
   ],
   "source": [
    "final_data['claim_amount']=final_data['claim_amount'].str.replace('$','')"
   ]
  },
  {
   "cell_type": "code",
   "execution_count": 25,
   "id": "cb89b9a3",
   "metadata": {},
   "outputs": [],
   "source": [
    "final_data['claim_amount']=final_data['claim_amount'].astype('float')"
   ]
  },
  {
   "cell_type": "code",
   "execution_count": 26,
   "id": "c379e5db",
   "metadata": {},
   "outputs": [
    {
     "data": {
      "text/plain": [
       "claim_id                 int64\n",
       "customer_id              int64\n",
       "incident_cause          object\n",
       "claim_date              object\n",
       "claim_area              object\n",
       "police_report           object\n",
       "claim_type              object\n",
       "claim_amount           float64\n",
       "total_policy_claims    float64\n",
       "fraudulent              object\n",
       "CUST_ID                float64\n",
       "gender                  object\n",
       "DateOfBirth             object\n",
       "State                   object\n",
       "Contact                 object\n",
       "Segment                 object\n",
       "dtype: object"
      ]
     },
     "execution_count": 26,
     "metadata": {},
     "output_type": "execute_result"
    }
   ],
   "source": [
    "final_data.dtypes"
   ]
  },
  {
   "cell_type": "markdown",
   "id": "cce97f85",
   "metadata": {},
   "source": [
    "## 4. Of all the injury claims, some of them have gone unreported with the police. Create an alert flag (1,0) for all such claims.\n"
   ]
  },
  {
   "cell_type": "code",
   "execution_count": 31,
   "id": "ba56bec6",
   "metadata": {},
   "outputs": [],
   "source": [
    "final_data['alert_flag']=final_data['police_report'].apply(lambda x:1 if x=='Yes' else(0 if x=='No' else x))"
   ]
  },
  {
   "cell_type": "code",
   "execution_count": 32,
   "id": "37830101",
   "metadata": {},
   "outputs": [
    {
     "data": {
      "text/html": [
       "<div>\n",
       "<style scoped>\n",
       "    .dataframe tbody tr th:only-of-type {\n",
       "        vertical-align: middle;\n",
       "    }\n",
       "\n",
       "    .dataframe tbody tr th {\n",
       "        vertical-align: top;\n",
       "    }\n",
       "\n",
       "    .dataframe thead th {\n",
       "        text-align: right;\n",
       "    }\n",
       "</style>\n",
       "<table border=\"1\" class=\"dataframe\">\n",
       "  <thead>\n",
       "    <tr style=\"text-align: right;\">\n",
       "      <th></th>\n",
       "      <th>claim_id</th>\n",
       "      <th>customer_id</th>\n",
       "      <th>incident_cause</th>\n",
       "      <th>claim_date</th>\n",
       "      <th>claim_area</th>\n",
       "      <th>police_report</th>\n",
       "      <th>claim_type</th>\n",
       "      <th>claim_amount</th>\n",
       "      <th>total_policy_claims</th>\n",
       "      <th>fraudulent</th>\n",
       "      <th>CUST_ID</th>\n",
       "      <th>gender</th>\n",
       "      <th>DateOfBirth</th>\n",
       "      <th>State</th>\n",
       "      <th>Contact</th>\n",
       "      <th>Segment</th>\n",
       "      <th>alert_flag</th>\n",
       "    </tr>\n",
       "  </thead>\n",
       "  <tbody>\n",
       "    <tr>\n",
       "      <th>0</th>\n",
       "      <td>54004764</td>\n",
       "      <td>21868593</td>\n",
       "      <td>Driver error</td>\n",
       "      <td>11/27/2017</td>\n",
       "      <td>Auto</td>\n",
       "      <td>No</td>\n",
       "      <td>Material only</td>\n",
       "      <td>2980.0</td>\n",
       "      <td>1.0</td>\n",
       "      <td>No</td>\n",
       "      <td>21868593.0</td>\n",
       "      <td>Female</td>\n",
       "      <td>12-Jan-79</td>\n",
       "      <td>VT</td>\n",
       "      <td>789-916-8172</td>\n",
       "      <td>Platinum</td>\n",
       "      <td>0</td>\n",
       "    </tr>\n",
       "    <tr>\n",
       "      <th>1</th>\n",
       "      <td>33985796</td>\n",
       "      <td>75740424</td>\n",
       "      <td>Crime</td>\n",
       "      <td>10/03/2018</td>\n",
       "      <td>Home</td>\n",
       "      <td>Unknown</td>\n",
       "      <td>Material only</td>\n",
       "      <td>2980.0</td>\n",
       "      <td>3.0</td>\n",
       "      <td>No</td>\n",
       "      <td>75740424.0</td>\n",
       "      <td>Female</td>\n",
       "      <td>13-Jan-70</td>\n",
       "      <td>ME</td>\n",
       "      <td>265-543-1264</td>\n",
       "      <td>Silver</td>\n",
       "      <td>Unknown</td>\n",
       "    </tr>\n",
       "    <tr>\n",
       "      <th>2</th>\n",
       "      <td>53522022</td>\n",
       "      <td>30308357</td>\n",
       "      <td>Other driver error</td>\n",
       "      <td>02/02/2018</td>\n",
       "      <td>Auto</td>\n",
       "      <td>No</td>\n",
       "      <td>Material only</td>\n",
       "      <td>3369.5</td>\n",
       "      <td>1.0</td>\n",
       "      <td>Yes</td>\n",
       "      <td>30308357.0</td>\n",
       "      <td>Female</td>\n",
       "      <td>11-Mar-84</td>\n",
       "      <td>TN</td>\n",
       "      <td>798-631-4758</td>\n",
       "      <td>Silver</td>\n",
       "      <td>0</td>\n",
       "    </tr>\n",
       "    <tr>\n",
       "      <th>3</th>\n",
       "      <td>13015401</td>\n",
       "      <td>47830476</td>\n",
       "      <td>Natural causes</td>\n",
       "      <td>06/17/2018</td>\n",
       "      <td>Auto</td>\n",
       "      <td>No</td>\n",
       "      <td>Material only</td>\n",
       "      <td>1680.0</td>\n",
       "      <td>1.0</td>\n",
       "      <td>No</td>\n",
       "      <td>47830476.0</td>\n",
       "      <td>Female</td>\n",
       "      <td>01-May-86</td>\n",
       "      <td>MA</td>\n",
       "      <td>413-187-7945</td>\n",
       "      <td>Silver</td>\n",
       "      <td>0</td>\n",
       "    </tr>\n",
       "    <tr>\n",
       "      <th>4</th>\n",
       "      <td>22890252</td>\n",
       "      <td>19269962</td>\n",
       "      <td>Crime</td>\n",
       "      <td>01/13/2018</td>\n",
       "      <td>Auto</td>\n",
       "      <td>No</td>\n",
       "      <td>Material only</td>\n",
       "      <td>2680.0</td>\n",
       "      <td>1.0</td>\n",
       "      <td>No</td>\n",
       "      <td>19269962.0</td>\n",
       "      <td>Male</td>\n",
       "      <td>13-May-77</td>\n",
       "      <td>NV</td>\n",
       "      <td>956-871-8691</td>\n",
       "      <td>Gold</td>\n",
       "      <td>0</td>\n",
       "    </tr>\n",
       "  </tbody>\n",
       "</table>\n",
       "</div>"
      ],
      "text/plain": [
       "   claim_id  customer_id      incident_cause  claim_date claim_area  \\\n",
       "0  54004764     21868593        Driver error  11/27/2017       Auto   \n",
       "1  33985796     75740424               Crime  10/03/2018       Home   \n",
       "2  53522022     30308357  Other driver error  02/02/2018       Auto   \n",
       "3  13015401     47830476      Natural causes  06/17/2018       Auto   \n",
       "4  22890252     19269962               Crime  01/13/2018       Auto   \n",
       "\n",
       "  police_report     claim_type  claim_amount  total_policy_claims fraudulent  \\\n",
       "0            No  Material only        2980.0                  1.0         No   \n",
       "1       Unknown  Material only        2980.0                  3.0         No   \n",
       "2            No  Material only        3369.5                  1.0        Yes   \n",
       "3            No  Material only        1680.0                  1.0         No   \n",
       "4            No  Material only        2680.0                  1.0         No   \n",
       "\n",
       "      CUST_ID  gender DateOfBirth State       Contact   Segment alert_flag  \n",
       "0  21868593.0  Female   12-Jan-79    VT  789-916-8172  Platinum          0  \n",
       "1  75740424.0  Female   13-Jan-70    ME  265-543-1264    Silver    Unknown  \n",
       "2  30308357.0  Female   11-Mar-84    TN  798-631-4758    Silver          0  \n",
       "3  47830476.0  Female   01-May-86    MA  413-187-7945    Silver          0  \n",
       "4  19269962.0    Male   13-May-77    NV  956-871-8691      Gold          0  "
      ]
     },
     "execution_count": 32,
     "metadata": {},
     "output_type": "execute_result"
    }
   ],
   "source": [
    "final_data.head()"
   ]
  },
  {
   "cell_type": "markdown",
   "id": "29597965",
   "metadata": {},
   "source": [
    "## 5. One customer can claim for insurance more than once and in each claim,multiple categories of claims can be involved. However, customer ID should remain unique. Retain the most recent observation and delete any duplicated records inthe data based on the customer ID column."
   ]
  },
  {
   "cell_type": "code",
   "execution_count": 33,
   "id": "e168c1a0",
   "metadata": {},
   "outputs": [
    {
     "data": {
      "text/plain": [
       "Index(['claim_id', 'customer_id', 'incident_cause', 'claim_date', 'claim_area',\n",
       "       'police_report', 'claim_type', 'claim_amount', 'total_policy_claims',\n",
       "       'fraudulent', 'CUST_ID', 'gender', 'DateOfBirth', 'State', 'Contact',\n",
       "       'Segment', 'alert_flag'],\n",
       "      dtype='object')"
      ]
     },
     "execution_count": 33,
     "metadata": {},
     "output_type": "execute_result"
    }
   ],
   "source": [
    "final_data.columns"
   ]
  },
  {
   "cell_type": "code",
   "execution_count": 35,
   "id": "b61af1d3",
   "metadata": {},
   "outputs": [],
   "source": [
    "final_data['claim_date']=pd.to_datetime(final_data['claim_date'],format='%m/%d/%Y')"
   ]
  },
  {
   "cell_type": "code",
   "execution_count": 39,
   "id": "417d5172",
   "metadata": {},
   "outputs": [],
   "source": [
    "sorted_data=final_data[['customer_id','claim_date']].sort_values(by=['claim_date'],ascending=False)"
   ]
  },
  {
   "cell_type": "code",
   "execution_count": 42,
   "id": "de066d5f",
   "metadata": {},
   "outputs": [],
   "source": [
    "duplicate_values=sorted_data.duplicated(subset='customer_id')"
   ]
  },
  {
   "cell_type": "code",
   "execution_count": 43,
   "id": "d1ae6ae4",
   "metadata": {},
   "outputs": [
    {
     "data": {
      "text/html": [
       "<div>\n",
       "<style scoped>\n",
       "    .dataframe tbody tr th:only-of-type {\n",
       "        vertical-align: middle;\n",
       "    }\n",
       "\n",
       "    .dataframe tbody tr th {\n",
       "        vertical-align: top;\n",
       "    }\n",
       "\n",
       "    .dataframe thead th {\n",
       "        text-align: right;\n",
       "    }\n",
       "</style>\n",
       "<table border=\"1\" class=\"dataframe\">\n",
       "  <thead>\n",
       "    <tr style=\"text-align: right;\">\n",
       "      <th></th>\n",
       "      <th>customer_id</th>\n",
       "      <th>claim_date</th>\n",
       "    </tr>\n",
       "  </thead>\n",
       "  <tbody>\n",
       "    <tr>\n",
       "      <th>2</th>\n",
       "      <td>30308357</td>\n",
       "      <td>2018-02-02</td>\n",
       "    </tr>\n",
       "    <tr>\n",
       "      <th>4</th>\n",
       "      <td>19269962</td>\n",
       "      <td>2018-01-13</td>\n",
       "    </tr>\n",
       "    <tr>\n",
       "      <th>605</th>\n",
       "      <td>53539195</td>\n",
       "      <td>2017-12-24</td>\n",
       "    </tr>\n",
       "    <tr>\n",
       "      <th>5</th>\n",
       "      <td>21831191</td>\n",
       "      <td>2017-10-04</td>\n",
       "    </tr>\n",
       "    <tr>\n",
       "      <th>630</th>\n",
       "      <td>47830476</td>\n",
       "      <td>2017-04-12</td>\n",
       "    </tr>\n",
       "    <tr>\n",
       "      <th>604</th>\n",
       "      <td>85357756</td>\n",
       "      <td>2017-02-23</td>\n",
       "    </tr>\n",
       "    <tr>\n",
       "      <th>603</th>\n",
       "      <td>84147585</td>\n",
       "      <td>2017-01-07</td>\n",
       "    </tr>\n",
       "  </tbody>\n",
       "</table>\n",
       "</div>"
      ],
      "text/plain": [
       "     customer_id claim_date\n",
       "2       30308357 2018-02-02\n",
       "4       19269962 2018-01-13\n",
       "605     53539195 2017-12-24\n",
       "5       21831191 2017-10-04\n",
       "630     47830476 2017-04-12\n",
       "604     85357756 2017-02-23\n",
       "603     84147585 2017-01-07"
      ]
     },
     "execution_count": 43,
     "metadata": {},
     "output_type": "execute_result"
    }
   ],
   "source": [
    "sorted_data[duplicate_values]"
   ]
  },
  {
   "cell_type": "code",
   "execution_count": 44,
   "id": "64216842",
   "metadata": {},
   "outputs": [],
   "source": [
    "final_data.drop_duplicates(subset='customer_id',keep='first',inplace=True,ignore_index=True)"
   ]
  },
  {
   "cell_type": "markdown",
   "id": "04aa6b4b",
   "metadata": {},
   "source": [
    "## 6. Check for missing values and impute the missing values with an appropriate value. (mean for continuous and mode for categorical)\n"
   ]
  },
  {
   "cell_type": "code",
   "execution_count": 50,
   "id": "29bde476",
   "metadata": {},
   "outputs": [],
   "source": [
    "final_data['DateOfBirth']=pd.to_datetime(final_data['DateOfBirth'],format='%d-%b-%y')"
   ]
  },
  {
   "cell_type": "code",
   "execution_count": 51,
   "id": "47c95bea",
   "metadata": {},
   "outputs": [],
   "source": [
    "categorical=final_data.select_dtypes(include='object')"
   ]
  },
  {
   "cell_type": "code",
   "execution_count": 53,
   "id": "7119831d",
   "metadata": {},
   "outputs": [],
   "source": [
    "numerical=final_data.select_dtypes(exclude=object)"
   ]
  },
  {
   "cell_type": "code",
   "execution_count": 59,
   "id": "5a8a4f4c",
   "metadata": {},
   "outputs": [
    {
     "data": {
      "text/plain": [
       "incident_cause     0\n",
       "claim_area         0\n",
       "police_report      0\n",
       "claim_type         0\n",
       "fraudulent         0\n",
       "gender            15\n",
       "State             15\n",
       "Contact           15\n",
       "Segment           15\n",
       "alert_flag         0\n",
       "dtype: int64"
      ]
     },
     "execution_count": 59,
     "metadata": {},
     "output_type": "execute_result"
    }
   ],
   "source": [
    "categorical.isnull().sum()"
   ]
  },
  {
   "cell_type": "code",
   "execution_count": 55,
   "id": "06c0b078",
   "metadata": {},
   "outputs": [
    {
     "data": {
      "text/plain": [
       "claim_id                0\n",
       "customer_id             0\n",
       "claim_date              0\n",
       "claim_amount           65\n",
       "total_policy_claims    10\n",
       "CUST_ID                15\n",
       "DateOfBirth            15\n",
       "dtype: int64"
      ]
     },
     "execution_count": 55,
     "metadata": {},
     "output_type": "execute_result"
    }
   ],
   "source": [
    "numerical.isnull().sum()"
   ]
  },
  {
   "cell_type": "code",
   "execution_count": 63,
   "id": "c06f504e",
   "metadata": {},
   "outputs": [
    {
     "name": "stderr",
     "output_type": "stream",
     "text": [
      "C:\\Users\\PREYANKA\\anaconda3\\lib\\site-packages\\pandas\\core\\series.py:4463: SettingWithCopyWarning: \n",
      "A value is trying to be set on a copy of a slice from a DataFrame\n",
      "\n",
      "See the caveats in the documentation: https://pandas.pydata.org/pandas-docs/stable/user_guide/indexing.html#returning-a-view-versus-a-copy\n",
      "  return super().fillna(\n"
     ]
    }
   ],
   "source": [
    "for i in categorical.columns:\n",
    "    categorical[i].fillna(categorical[i].mode()[0],inplace=True)"
   ]
  },
  {
   "cell_type": "code",
   "execution_count": 64,
   "id": "448f112a",
   "metadata": {},
   "outputs": [
    {
     "data": {
      "text/plain": [
       "incident_cause    0\n",
       "claim_area        0\n",
       "police_report     0\n",
       "claim_type        0\n",
       "fraudulent        0\n",
       "gender            0\n",
       "State             0\n",
       "Contact           0\n",
       "Segment           0\n",
       "alert_flag        0\n",
       "dtype: int64"
      ]
     },
     "execution_count": 64,
     "metadata": {},
     "output_type": "execute_result"
    }
   ],
   "source": [
    "categorical.isnull().sum()"
   ]
  },
  {
   "cell_type": "code",
   "execution_count": 68,
   "id": "099ab2d1",
   "metadata": {},
   "outputs": [
    {
     "name": "stderr",
     "output_type": "stream",
     "text": [
      "C:\\Users\\PREYANKA\\anaconda3\\lib\\site-packages\\pandas\\core\\series.py:4463: SettingWithCopyWarning: \n",
      "A value is trying to be set on a copy of a slice from a DataFrame\n",
      "\n",
      "See the caveats in the documentation: https://pandas.pydata.org/pandas-docs/stable/user_guide/indexing.html#returning-a-view-versus-a-copy\n",
      "  return super().fillna(\n"
     ]
    }
   ],
   "source": [
    "for i in numerical.columns:\n",
    "    numerical[i].fillna(numerical[i].mean(),inplace=True)"
   ]
  },
  {
   "cell_type": "code",
   "execution_count": 69,
   "id": "714d5265",
   "metadata": {},
   "outputs": [
    {
     "data": {
      "text/plain": [
       "claim_id               0\n",
       "customer_id            0\n",
       "claim_date             0\n",
       "claim_amount           0\n",
       "total_policy_claims    0\n",
       "CUST_ID                0\n",
       "DateOfBirth            0\n",
       "dtype: int64"
      ]
     },
     "execution_count": 69,
     "metadata": {},
     "output_type": "execute_result"
    }
   ],
   "source": [
    "numerical.isnull().sum()"
   ]
  },
  {
   "cell_type": "code",
   "execution_count": 71,
   "id": "f5a51f32",
   "metadata": {},
   "outputs": [],
   "source": [
    "concat_data=pd.concat([numerical,categorical],axis=1)"
   ]
  },
  {
   "cell_type": "markdown",
   "id": "ee77ded2",
   "metadata": {},
   "source": [
    "## 7. Calculate the age of customers in years. Based on the age, categorize thecustomers       according to the below criteria:\n",
    "\n"
   ]
  },
  {
   "cell_type": "markdown",
   "id": "83c5b846",
   "metadata": {},
   "source": [
    "Children < 18\n",
    "Youth 18-30\n",
    "Adult 30-60\n",
    "Senior > 60"
   ]
  },
  {
   "cell_type": "code",
   "execution_count": 77,
   "id": "873f24dc",
   "metadata": {},
   "outputs": [
    {
     "data": {
      "text/plain": [
       "2018"
      ]
     },
     "execution_count": 77,
     "metadata": {},
     "output_type": "execute_result"
    }
   ],
   "source": [
    "concat_data['claim_date'].max().year"
   ]
  },
  {
   "cell_type": "code",
   "execution_count": 79,
   "id": "f4eb22f6",
   "metadata": {},
   "outputs": [
    {
     "data": {
      "text/plain": [
       "2024"
      ]
     },
     "execution_count": 79,
     "metadata": {},
     "output_type": "execute_result"
    }
   ],
   "source": [
    "dt.datetime.now().year"
   ]
  },
  {
   "cell_type": "code",
   "execution_count": 81,
   "id": "e55a1afd",
   "metadata": {},
   "outputs": [],
   "source": [
    "concat_data['Age']=concat_data['claim_date'].max().year-concat_data['DateOfBirth'].dt.year"
   ]
  },
  {
   "cell_type": "code",
   "execution_count": 83,
   "id": "af77e0a0",
   "metadata": {},
   "outputs": [],
   "source": [
    "concat_data['Age_categories']=concat_data['Age'].apply(lambda x:'children'if x<18 else('Youth'if 18<= x <=30 else('Adult'if 30 <x <=60 else 'Senior')))"
   ]
  },
  {
   "cell_type": "code",
   "execution_count": 85,
   "id": "d7b8a443",
   "metadata": {},
   "outputs": [
    {
     "data": {
      "text/html": [
       "<div>\n",
       "<style scoped>\n",
       "    .dataframe tbody tr th:only-of-type {\n",
       "        vertical-align: middle;\n",
       "    }\n",
       "\n",
       "    .dataframe tbody tr th {\n",
       "        vertical-align: top;\n",
       "    }\n",
       "\n",
       "    .dataframe thead th {\n",
       "        text-align: right;\n",
       "    }\n",
       "</style>\n",
       "<table border=\"1\" class=\"dataframe\">\n",
       "  <thead>\n",
       "    <tr style=\"text-align: right;\">\n",
       "      <th></th>\n",
       "      <th>claim_id</th>\n",
       "      <th>customer_id</th>\n",
       "      <th>claim_date</th>\n",
       "      <th>claim_amount</th>\n",
       "      <th>total_policy_claims</th>\n",
       "      <th>CUST_ID</th>\n",
       "      <th>DateOfBirth</th>\n",
       "      <th>incident_cause</th>\n",
       "      <th>claim_area</th>\n",
       "      <th>police_report</th>\n",
       "      <th>claim_type</th>\n",
       "      <th>fraudulent</th>\n",
       "      <th>gender</th>\n",
       "      <th>State</th>\n",
       "      <th>Contact</th>\n",
       "      <th>Segment</th>\n",
       "      <th>alert_flag</th>\n",
       "      <th>Age</th>\n",
       "      <th>Age_categories</th>\n",
       "    </tr>\n",
       "  </thead>\n",
       "  <tbody>\n",
       "    <tr>\n",
       "      <th>0</th>\n",
       "      <td>54004764</td>\n",
       "      <td>21868593</td>\n",
       "      <td>2017-11-27</td>\n",
       "      <td>2980.0</td>\n",
       "      <td>1.0</td>\n",
       "      <td>21868593.0</td>\n",
       "      <td>1979-01-12</td>\n",
       "      <td>Driver error</td>\n",
       "      <td>Auto</td>\n",
       "      <td>No</td>\n",
       "      <td>Material only</td>\n",
       "      <td>No</td>\n",
       "      <td>Female</td>\n",
       "      <td>VT</td>\n",
       "      <td>789-916-8172</td>\n",
       "      <td>Platinum</td>\n",
       "      <td>0</td>\n",
       "      <td>39</td>\n",
       "      <td>Adult</td>\n",
       "    </tr>\n",
       "    <tr>\n",
       "      <th>1</th>\n",
       "      <td>33985796</td>\n",
       "      <td>75740424</td>\n",
       "      <td>2018-10-03</td>\n",
       "      <td>2980.0</td>\n",
       "      <td>3.0</td>\n",
       "      <td>75740424.0</td>\n",
       "      <td>1970-01-13</td>\n",
       "      <td>Crime</td>\n",
       "      <td>Home</td>\n",
       "      <td>Unknown</td>\n",
       "      <td>Material only</td>\n",
       "      <td>No</td>\n",
       "      <td>Female</td>\n",
       "      <td>ME</td>\n",
       "      <td>265-543-1264</td>\n",
       "      <td>Silver</td>\n",
       "      <td>Unknown</td>\n",
       "      <td>48</td>\n",
       "      <td>Adult</td>\n",
       "    </tr>\n",
       "  </tbody>\n",
       "</table>\n",
       "</div>"
      ],
      "text/plain": [
       "   claim_id  customer_id claim_date  claim_amount  total_policy_claims  \\\n",
       "0  54004764     21868593 2017-11-27        2980.0                  1.0   \n",
       "1  33985796     75740424 2018-10-03        2980.0                  3.0   \n",
       "\n",
       "      CUST_ID DateOfBirth incident_cause claim_area police_report  \\\n",
       "0  21868593.0  1979-01-12   Driver error       Auto            No   \n",
       "1  75740424.0  1970-01-13          Crime       Home       Unknown   \n",
       "\n",
       "      claim_type fraudulent  gender State       Contact   Segment alert_flag  \\\n",
       "0  Material only         No  Female    VT  789-916-8172  Platinum          0   \n",
       "1  Material only         No  Female    ME  265-543-1264    Silver    Unknown   \n",
       "\n",
       "   Age Age_categories  \n",
       "0   39          Adult  \n",
       "1   48          Adult  "
      ]
     },
     "execution_count": 85,
     "metadata": {},
     "output_type": "execute_result"
    }
   ],
   "source": [
    "concat_data.head(2)"
   ]
  },
  {
   "cell_type": "markdown",
   "id": "6cc30ccb",
   "metadata": {},
   "source": [
    "## 8. What is the average amount claimed by the customers from various segments?"
   ]
  },
  {
   "cell_type": "code",
   "execution_count": 86,
   "id": "620d215e",
   "metadata": {},
   "outputs": [
    {
     "data": {
      "text/html": [
       "<div>\n",
       "<style scoped>\n",
       "    .dataframe tbody tr th:only-of-type {\n",
       "        vertical-align: middle;\n",
       "    }\n",
       "\n",
       "    .dataframe tbody tr th {\n",
       "        vertical-align: top;\n",
       "    }\n",
       "\n",
       "    .dataframe thead th {\n",
       "        text-align: right;\n",
       "    }\n",
       "</style>\n",
       "<table border=\"1\" class=\"dataframe\">\n",
       "  <thead>\n",
       "    <tr style=\"text-align: right;\">\n",
       "      <th></th>\n",
       "      <th>claim_amount</th>\n",
       "    </tr>\n",
       "    <tr>\n",
       "      <th>Segment</th>\n",
       "      <th></th>\n",
       "    </tr>\n",
       "  </thead>\n",
       "  <tbody>\n",
       "    <tr>\n",
       "      <th>Gold</th>\n",
       "      <td>12675.262946</td>\n",
       "    </tr>\n",
       "    <tr>\n",
       "      <th>Platinum</th>\n",
       "      <td>12368.233815</td>\n",
       "    </tr>\n",
       "    <tr>\n",
       "      <th>Silver</th>\n",
       "      <td>12267.349306</td>\n",
       "    </tr>\n",
       "  </tbody>\n",
       "</table>\n",
       "</div>"
      ],
      "text/plain": [
       "          claim_amount\n",
       "Segment               \n",
       "Gold      12675.262946\n",
       "Platinum  12368.233815\n",
       "Silver    12267.349306"
      ]
     },
     "execution_count": 86,
     "metadata": {},
     "output_type": "execute_result"
    }
   ],
   "source": [
    "concat_data[['claim_amount','Segment']].groupby(by=['Segment'])[['claim_amount']].mean()"
   ]
  },
  {
   "cell_type": "markdown",
   "id": "630a9efb",
   "metadata": {},
   "source": [
    "## 9. What is the total claim amount based on incident cause for all the claims that have been done at least 20 days prior to 1st of October, 2018.\n"
   ]
  },
  {
   "cell_type": "code",
   "execution_count": 93,
   "id": "809738f7",
   "metadata": {},
   "outputs": [],
   "source": [
    "date_filtered=concat_data[concat_data['claim_date']<=pd.to_datetime('2018-10-01')-pd.Timedelta(days=20)]\n"
   ]
  },
  {
   "cell_type": "code",
   "execution_count": 94,
   "id": "1af8e99a",
   "metadata": {},
   "outputs": [
    {
     "data": {
      "text/html": [
       "<div>\n",
       "<style scoped>\n",
       "    .dataframe tbody tr th:only-of-type {\n",
       "        vertical-align: middle;\n",
       "    }\n",
       "\n",
       "    .dataframe tbody tr th {\n",
       "        vertical-align: top;\n",
       "    }\n",
       "\n",
       "    .dataframe thead th {\n",
       "        text-align: right;\n",
       "    }\n",
       "</style>\n",
       "<table border=\"1\" class=\"dataframe\">\n",
       "  <thead>\n",
       "    <tr style=\"text-align: right;\">\n",
       "      <th></th>\n",
       "      <th>claim_amount</th>\n",
       "    </tr>\n",
       "    <tr>\n",
       "      <th>incident_cause</th>\n",
       "      <th></th>\n",
       "    </tr>\n",
       "  </thead>\n",
       "  <tbody>\n",
       "    <tr>\n",
       "      <th>Crime</th>\n",
       "      <td>7.294856e+05</td>\n",
       "    </tr>\n",
       "    <tr>\n",
       "      <th>Driver error</th>\n",
       "      <td>3.292987e+06</td>\n",
       "    </tr>\n",
       "    <tr>\n",
       "      <th>Natural causes</th>\n",
       "      <td>1.315024e+06</td>\n",
       "    </tr>\n",
       "    <tr>\n",
       "      <th>Other causes</th>\n",
       "      <td>3.779919e+06</td>\n",
       "    </tr>\n",
       "    <tr>\n",
       "      <th>Other driver error</th>\n",
       "      <td>3.384079e+06</td>\n",
       "    </tr>\n",
       "  </tbody>\n",
       "</table>\n",
       "</div>"
      ],
      "text/plain": [
       "                    claim_amount\n",
       "incident_cause                  \n",
       "Crime               7.294856e+05\n",
       "Driver error        3.292987e+06\n",
       "Natural causes      1.315024e+06\n",
       "Other causes        3.779919e+06\n",
       "Other driver error  3.384079e+06"
      ]
     },
     "execution_count": 94,
     "metadata": {},
     "output_type": "execute_result"
    }
   ],
   "source": [
    "date_filtered.groupby(by=['incident_cause'])[['claim_amount']].sum()"
   ]
  },
  {
   "cell_type": "markdown",
   "id": "0356396d",
   "metadata": {},
   "source": [
    "## 10. How many adults from TX, DE and AK claimed insurance for driver related issues and causes? "
   ]
  },
  {
   "cell_type": "code",
   "execution_count": 102,
   "id": "8dd30cae",
   "metadata": {},
   "outputs": [
    {
     "data": {
      "text/html": [
       "<div>\n",
       "<style scoped>\n",
       "    .dataframe tbody tr th:only-of-type {\n",
       "        vertical-align: middle;\n",
       "    }\n",
       "\n",
       "    .dataframe tbody tr th {\n",
       "        vertical-align: top;\n",
       "    }\n",
       "\n",
       "    .dataframe thead th {\n",
       "        text-align: right;\n",
       "    }\n",
       "</style>\n",
       "<table border=\"1\" class=\"dataframe\">\n",
       "  <thead>\n",
       "    <tr style=\"text-align: right;\">\n",
       "      <th></th>\n",
       "      <th></th>\n",
       "      <th>Age_categories</th>\n",
       "    </tr>\n",
       "    <tr>\n",
       "      <th>State</th>\n",
       "      <th>incident_cause</th>\n",
       "      <th></th>\n",
       "    </tr>\n",
       "  </thead>\n",
       "  <tbody>\n",
       "    <tr>\n",
       "      <th rowspan=\"2\" valign=\"top\">AK</th>\n",
       "      <th>Driver error</th>\n",
       "      <td>4</td>\n",
       "    </tr>\n",
       "    <tr>\n",
       "      <th>Other driver error</th>\n",
       "      <td>3</td>\n",
       "    </tr>\n",
       "    <tr>\n",
       "      <th rowspan=\"2\" valign=\"top\">DE</th>\n",
       "      <th>Driver error</th>\n",
       "      <td>2</td>\n",
       "    </tr>\n",
       "    <tr>\n",
       "      <th>Other driver error</th>\n",
       "      <td>3</td>\n",
       "    </tr>\n",
       "    <tr>\n",
       "      <th rowspan=\"2\" valign=\"top\">TX</th>\n",
       "      <th>Driver error</th>\n",
       "      <td>2</td>\n",
       "    </tr>\n",
       "    <tr>\n",
       "      <th>Other driver error</th>\n",
       "      <td>3</td>\n",
       "    </tr>\n",
       "  </tbody>\n",
       "</table>\n",
       "</div>"
      ],
      "text/plain": [
       "                          Age_categories\n",
       "State incident_cause                    \n",
       "AK    Driver error                     4\n",
       "      Other driver error               3\n",
       "DE    Driver error                     2\n",
       "      Other driver error               3\n",
       "TX    Driver error                     2\n",
       "      Other driver error               3"
      ]
     },
     "execution_count": 102,
     "metadata": {},
     "output_type": "execute_result"
    }
   ],
   "source": [
    "concat_data[['Age_categories','State','incident_cause']][(concat_data['Age_categories']=='Adult') & ((concat_data['State']=='TX') | (concat_data['State']=='DE') | (concat_data['State']=='AK')) & ((concat_data['incident_cause']=='Driver error') | (concat_data['incident_cause']=='Other driver error'))].groupby(['State','incident_cause'])[['Age_categories']].count()"
   ]
  },
  {
   "cell_type": "markdown",
   "id": "50065f29",
   "metadata": {},
   "source": [
    "## 11. Draw a pie chart between the aggregated value of claim amount based on gender and segment. Represent the claim amount as a percentage onthe pie chart."
   ]
  },
  {
   "cell_type": "code",
   "execution_count": 105,
   "id": "60f99425",
   "metadata": {},
   "outputs": [],
   "source": [
    "pie_chart_data=concat_data[['claim_amount','Segment','gender']].groupby(['Segment','gender'])[['claim_amount']].sum().reset_index()"
   ]
  },
  {
   "cell_type": "code",
   "execution_count": 107,
   "id": "f8c1624d",
   "metadata": {},
   "outputs": [
    {
     "data": {
      "text/html": [
       "<div>\n",
       "<style scoped>\n",
       "    .dataframe tbody tr th:only-of-type {\n",
       "        vertical-align: middle;\n",
       "    }\n",
       "\n",
       "    .dataframe tbody tr th {\n",
       "        vertical-align: top;\n",
       "    }\n",
       "\n",
       "    .dataframe thead th {\n",
       "        text-align: right;\n",
       "    }\n",
       "</style>\n",
       "<table border=\"1\" class=\"dataframe\">\n",
       "  <thead>\n",
       "    <tr style=\"text-align: right;\">\n",
       "      <th></th>\n",
       "      <th>Segment</th>\n",
       "      <th>gender</th>\n",
       "      <th>claim_amount</th>\n",
       "    </tr>\n",
       "  </thead>\n",
       "  <tbody>\n",
       "    <tr>\n",
       "      <th>0</th>\n",
       "      <td>Gold</td>\n",
       "      <td>Female</td>\n",
       "      <td>2.109532e+06</td>\n",
       "    </tr>\n",
       "    <tr>\n",
       "      <th>1</th>\n",
       "      <td>Gold</td>\n",
       "      <td>Male</td>\n",
       "      <td>2.783120e+06</td>\n",
       "    </tr>\n",
       "    <tr>\n",
       "      <th>2</th>\n",
       "      <td>Platinum</td>\n",
       "      <td>Female</td>\n",
       "      <td>2.369323e+06</td>\n",
       "    </tr>\n",
       "    <tr>\n",
       "      <th>3</th>\n",
       "      <td>Platinum</td>\n",
       "      <td>Male</td>\n",
       "      <td>2.095609e+06</td>\n",
       "    </tr>\n",
       "    <tr>\n",
       "      <th>4</th>\n",
       "      <td>Silver</td>\n",
       "      <td>Female</td>\n",
       "      <td>1.898223e+06</td>\n",
       "    </tr>\n",
       "    <tr>\n",
       "      <th>5</th>\n",
       "      <td>Silver</td>\n",
       "      <td>Male</td>\n",
       "      <td>2.346279e+06</td>\n",
       "    </tr>\n",
       "  </tbody>\n",
       "</table>\n",
       "</div>"
      ],
      "text/plain": [
       "    Segment  gender  claim_amount\n",
       "0      Gold  Female  2.109532e+06\n",
       "1      Gold    Male  2.783120e+06\n",
       "2  Platinum  Female  2.369323e+06\n",
       "3  Platinum    Male  2.095609e+06\n",
       "4    Silver  Female  1.898223e+06\n",
       "5    Silver    Male  2.346279e+06"
      ]
     },
     "execution_count": 107,
     "metadata": {},
     "output_type": "execute_result"
    }
   ],
   "source": [
    "pie_chart_data"
   ]
  },
  {
   "cell_type": "code",
   "execution_count": 109,
   "id": "3c36ac46",
   "metadata": {},
   "outputs": [],
   "source": [
    "df=pie_chart_data.pivot(index='Segment',columns='gender',values='claim_amount').stack()"
   ]
  },
  {
   "cell_type": "code",
   "execution_count": 110,
   "id": "cd1555bf",
   "metadata": {},
   "outputs": [
    {
     "data": {
      "text/plain": [
       "Segment   gender\n",
       "Gold      Female    2.109532e+06\n",
       "          Male      2.783120e+06\n",
       "Platinum  Female    2.369323e+06\n",
       "          Male      2.095609e+06\n",
       "Silver    Female    1.898223e+06\n",
       "          Male      2.346279e+06\n",
       "dtype: float64"
      ]
     },
     "execution_count": 110,
     "metadata": {},
     "output_type": "execute_result"
    }
   ],
   "source": [
    "df"
   ]
  },
  {
   "cell_type": "code",
   "execution_count": 133,
   "id": "6c698298",
   "metadata": {},
   "outputs": [
    {
     "data": {
      "text/plain": [
       "Text(0.5, 1.0, 'claim amount of male/female with segment')"
      ]
     },
     "execution_count": 133,
     "metadata": {},
     "output_type": "execute_result"
    },
    {
     "data": {
      "image/png": "[encoded data removed]",
      "text/plain": [
       "<Figure size 720x720 with 1 Axes>"
      ]
     },
     "metadata": {},
     "output_type": "display_data"
    }
   ],
   "source": [
    "plt.figure(figsize=((10,10)))\n",
    "plt.pie(df,labels=df.index,autopct='%1.1f%%',colors=['lightcoral','lightskyblue'],explode=(0.1, 0, 0.1, 0, 0.1, 0))\n",
    "plt.title('claim amount of male/female with segment')"
   ]
  },
  {
   "cell_type": "markdown",
   "id": "cd13a794",
   "metadata": {},
   "source": [
    "## 12. Among males and females, which gender had claimed the most for any type of driver related issues? E.g. This metric can be compared using a bar chart\n"
   ]
  },
  {
   "cell_type": "code",
   "execution_count": 153,
   "id": "34045702",
   "metadata": {},
   "outputs": [],
   "source": [
    "bar_data=concat_data[['gender','incident_cause']][(concat_data['incident_cause']=='Driver error')|(concat_data['incident_cause']=='Other driver error')].groupby(['gender','incident_cause'])['incident_cause'].count().reset_index(name='count')"
   ]
  },
  {
   "cell_type": "code",
   "execution_count": 155,
   "id": "313c21af",
   "metadata": {},
   "outputs": [
    {
     "data": {
      "text/plain": [
       "<AxesSubplot:xlabel='incident_cause', ylabel='count'>"
      ]
     },
     "execution_count": 155,
     "metadata": {},
     "output_type": "execute_result"
    },
    {
     "data": {
      "image/png": "[encoded data removed]",
      "text/plain": [
       "<Figure size 432x288 with 1 Axes>"
      ]
     },
     "metadata": {},
     "output_type": "display_data"
    }
   ],
   "source": [
    "sns.barplot(x='incident_cause',y='count',hue='gender',data=bar_data)"
   ]
  },
  {
   "cell_type": "markdown",
   "id": "9d5f5a9a",
   "metadata": {},
   "source": [
    "## 13. Which age group had the maximum fraudulent policy claims? Visualize it on a bar chart."
   ]
  },
  {
   "cell_type": "code",
   "execution_count": 164,
   "id": "a10ab1ce",
   "metadata": {},
   "outputs": [],
   "source": [
    "AF=concat_data[['Age_categories','fraudulent']][concat_data['fraudulent']=='Yes'].groupby(by=['Age_categories'])[['fraudulent']].count().reset_index()"
   ]
  },
  {
   "cell_type": "code",
   "execution_count": 165,
   "id": "8b0e434f",
   "metadata": {},
   "outputs": [
    {
     "data": {
      "text/html": [
       "<div>\n",
       "<style scoped>\n",
       "    .dataframe tbody tr th:only-of-type {\n",
       "        vertical-align: middle;\n",
       "    }\n",
       "\n",
       "    .dataframe tbody tr th {\n",
       "        vertical-align: top;\n",
       "    }\n",
       "\n",
       "    .dataframe thead th {\n",
       "        text-align: right;\n",
       "    }\n",
       "</style>\n",
       "<table border=\"1\" class=\"dataframe\">\n",
       "  <thead>\n",
       "    <tr style=\"text-align: right;\">\n",
       "      <th></th>\n",
       "      <th>Age_categories</th>\n",
       "      <th>fraudulent</th>\n",
       "    </tr>\n",
       "  </thead>\n",
       "  <tbody>\n",
       "    <tr>\n",
       "      <th>0</th>\n",
       "      <td>Adult</td>\n",
       "      <td>113</td>\n",
       "    </tr>\n",
       "    <tr>\n",
       "      <th>1</th>\n",
       "      <td>Youth</td>\n",
       "      <td>74</td>\n",
       "    </tr>\n",
       "    <tr>\n",
       "      <th>2</th>\n",
       "      <td>children</td>\n",
       "      <td>67</td>\n",
       "    </tr>\n",
       "  </tbody>\n",
       "</table>\n",
       "</div>"
      ],
      "text/plain": [
       "  Age_categories  fraudulent\n",
       "0          Adult         113\n",
       "1          Youth          74\n",
       "2       children          67"
      ]
     },
     "execution_count": 165,
     "metadata": {},
     "output_type": "execute_result"
    }
   ],
   "source": [
    "AF"
   ]
  },
  {
   "cell_type": "code",
   "execution_count": 169,
   "id": "99f060fa",
   "metadata": {},
   "outputs": [
    {
     "data": {
      "text/plain": [
       "Text(0.5, 1.0, 'Count of fraudulent among Age group')"
      ]
     },
     "execution_count": 169,
     "metadata": {},
     "output_type": "execute_result"
    },
    {
     "data": {
      "image/png": "[encoded data removed]",
      "text/plain": [
       "<Figure size 432x288 with 1 Axes>"
      ]
     },
     "metadata": {},
     "output_type": "display_data"
    }
   ],
   "source": [
    "sns.barplot(x='Age_categories',y='fraudulent',data=AF)\n",
    "plt.legend(title='age_category', labels=['adult', 'childern','youth'])\n",
    "plt.title(\"Count of fraudulent among Age group\")"
   ]
  },
  {
   "cell_type": "markdown",
   "id": "62733c92",
   "metadata": {},
   "source": [
    "## 14. Visualize the monthly trend of the total amount that has been claimed by the customers. Ensure that on the “month” axis, the month is in a chronological order not alphabetical order."
   ]
  },
  {
   "cell_type": "code",
   "execution_count": 172,
   "id": "7c8f593b",
   "metadata": {},
   "outputs": [],
   "source": [
    "data=concat_data[['claim_date','claim_amount']]"
   ]
  },
  {
   "cell_type": "code",
   "execution_count": 188,
   "id": "f8824382",
   "metadata": {},
   "outputs": [
    {
     "name": "stderr",
     "output_type": "stream",
     "text": [
      "<ipython-input-188-97c3b1754089>:1: SettingWithCopyWarning: \n",
      "A value is trying to be set on a copy of a slice from a DataFrame.\n",
      "Try using .loc[row_indexer,col_indexer] = value instead\n",
      "\n",
      "See the caveats in the documentation: https://pandas.pydata.org/pandas-docs/stable/user_guide/indexing.html#returning-a-view-versus-a-copy\n",
      "  data['Month']=data.loc[:,'claim_date'].dt.month_name()\n"
     ]
    }
   ],
   "source": [
    "data['Month']=data.loc[:,'claim_date'].dt.month_name()"
   ]
  },
  {
   "cell_type": "code",
   "execution_count": 189,
   "id": "39310645",
   "metadata": {},
   "outputs": [],
   "source": [
    "list=['January','February','March','April','May','June','July','August','September','October','November','December']"
   ]
  },
  {
   "cell_type": "code",
   "execution_count": 191,
   "id": "71dad256",
   "metadata": {},
   "outputs": [
    {
     "data": {
      "text/html": [
       "<div>\n",
       "<style scoped>\n",
       "    .dataframe tbody tr th:only-of-type {\n",
       "        vertical-align: middle;\n",
       "    }\n",
       "\n",
       "    .dataframe tbody tr th {\n",
       "        vertical-align: top;\n",
       "    }\n",
       "\n",
       "    .dataframe thead th {\n",
       "        text-align: right;\n",
       "    }\n",
       "</style>\n",
       "<table border=\"1\" class=\"dataframe\">\n",
       "  <thead>\n",
       "    <tr style=\"text-align: right;\">\n",
       "      <th></th>\n",
       "      <th>Month</th>\n",
       "      <th>claim_amount</th>\n",
       "    </tr>\n",
       "  </thead>\n",
       "  <tbody>\n",
       "    <tr>\n",
       "      <th>0</th>\n",
       "      <td>January</td>\n",
       "      <td>1.331832e+06</td>\n",
       "    </tr>\n",
       "    <tr>\n",
       "      <th>1</th>\n",
       "      <td>February</td>\n",
       "      <td>1.156579e+06</td>\n",
       "    </tr>\n",
       "    <tr>\n",
       "      <th>2</th>\n",
       "      <td>March</td>\n",
       "      <td>1.348315e+06</td>\n",
       "    </tr>\n",
       "    <tr>\n",
       "      <th>3</th>\n",
       "      <td>April</td>\n",
       "      <td>1.276020e+06</td>\n",
       "    </tr>\n",
       "    <tr>\n",
       "      <th>4</th>\n",
       "      <td>May</td>\n",
       "      <td>1.115035e+06</td>\n",
       "    </tr>\n",
       "    <tr>\n",
       "      <th>5</th>\n",
       "      <td>June</td>\n",
       "      <td>1.317728e+06</td>\n",
       "    </tr>\n",
       "    <tr>\n",
       "      <th>6</th>\n",
       "      <td>July</td>\n",
       "      <td>1.382493e+06</td>\n",
       "    </tr>\n",
       "    <tr>\n",
       "      <th>7</th>\n",
       "      <td>August</td>\n",
       "      <td>9.134147e+05</td>\n",
       "    </tr>\n",
       "    <tr>\n",
       "      <th>8</th>\n",
       "      <td>September</td>\n",
       "      <td>9.803903e+05</td>\n",
       "    </tr>\n",
       "    <tr>\n",
       "      <th>9</th>\n",
       "      <td>October</td>\n",
       "      <td>1.428671e+06</td>\n",
       "    </tr>\n",
       "    <tr>\n",
       "      <th>10</th>\n",
       "      <td>November</td>\n",
       "      <td>6.259235e+05</td>\n",
       "    </tr>\n",
       "    <tr>\n",
       "      <th>11</th>\n",
       "      <td>December</td>\n",
       "      <td>7.256857e+05</td>\n",
       "    </tr>\n",
       "  </tbody>\n",
       "</table>\n",
       "</div>"
      ],
      "text/plain": [
       "        Month  claim_amount\n",
       "0     January  1.331832e+06\n",
       "1    February  1.156579e+06\n",
       "2       March  1.348315e+06\n",
       "3       April  1.276020e+06\n",
       "4         May  1.115035e+06\n",
       "5        June  1.317728e+06\n",
       "6        July  1.382493e+06\n",
       "7      August  9.134147e+05\n",
       "8   September  9.803903e+05\n",
       "9     October  1.428671e+06\n",
       "10   November  6.259235e+05\n",
       "11   December  7.256857e+05"
      ]
     },
     "execution_count": 191,
     "metadata": {},
     "output_type": "execute_result"
    }
   ],
   "source": [
    "monthly_claim=data.groupby('Month')['claim_amount'].sum()\n",
    "z=monthly_claim[list].reset_index()\n",
    "z"
   ]
  },
  {
   "cell_type": "code",
   "execution_count": 196,
   "id": "8b51a96f",
   "metadata": {},
   "outputs": [
    {
     "data": {
      "text/plain": [
       "Text(0.5, 1.0, 'Monthly trend of Total amount')"
      ]
     },
     "execution_count": 196,
     "metadata": {},
     "output_type": "execute_result"
    },
    {
     "data": {
      "image/png": "[encoded data removed]",
      "text/plain": [
       "<Figure size 1080x720 with 1 Axes>"
      ]
     },
     "metadata": {},
     "output_type": "display_data"
    }
   ],
   "source": [
    "plt.figure(figsize=((15,10)))\n",
    "sns.lineplot(x='Month',y='claim_amount',data=z)\n",
    "plt.title(\"Monthly trend of Total amount\")"
   ]
  },
  {
   "cell_type": "markdown",
   "id": "de018453",
   "metadata": {},
   "source": [
    "## 15. What is the average claim amount for gender and age categories and suitably represent the above using a facetted bar chart, one facet that represents fraudulent claims and the other for non-fraudulent claims."
   ]
  },
  {
   "cell_type": "code",
   "execution_count": 202,
   "id": "83110643",
   "metadata": {},
   "outputs": [],
   "source": [
    "avg_claim=concat_data[['gender','Age_categories','fraudulent','claim_amount']].groupby(by=['gender','Age_categories','fraudulent'])[['claim_amount']].mean().reset_index()"
   ]
  },
  {
   "cell_type": "code",
   "execution_count": 216,
   "id": "6a3ff360",
   "metadata": {},
   "outputs": [
    {
     "data": {
      "text/plain": [
       "<Figure size 1440x1440 with 0 Axes>"
      ]
     },
     "metadata": {},
     "output_type": "display_data"
    },
    {
     "data": {
      "image/png": "[encoded data removed]",
      "text/plain": [
       "<Figure size 796.35x360 with 2 Axes>"
      ]
     },
     "metadata": {},
     "output_type": "display_data"
    }
   ],
   "source": [
    "plt.figure(figsize=((20,20)))\n",
    "sns.catplot(x='Age_categories',y='claim_amount',hue='gender',col='fraudulent',kind='bar',data=avg_claim)\n",
    "plt.suptitle(\"Average Claim Amount by Gender and Age Category for Fraudulent and Non-Fraudulent Claims\")\n",
    "\n",
    "plt.tight_layout()"
   ]
  },
  {
   "cell_type": "markdown",
   "id": "84dd3732",
   "metadata": {},
   "source": [
    "# Based on the conclusions from exploratory analysis as well as suitable statistical tests, answer the below questions. Please include a detailed write-up on the parameters taken into consideration, the Hypothesis testing steps, conclusion from the p-values and the business implications of the statements. "
   ]
  },
  {
   "cell_type": "markdown",
   "id": "3016adc6",
   "metadata": {},
   "source": [
    "## 16. Is there any similarity in the amount claimed by males and females?"
   ]
  },
  {
   "cell_type": "code",
   "execution_count": 220,
   "id": "844a6c5d",
   "metadata": {},
   "outputs": [],
   "source": [
    "#Perform t-test(two sample independent)\n",
    "#CI=95%  SI=0.05\n",
    "\n",
    "\n",
    "#Ho: there is similarities in the amount claimed by male and female.\n",
    "#Ha: there is no similarities in the amount claimed by male and female.\n",
    "\n",
    "Males=concat_data.loc[concat_data['gender']=='Male','claim_amount']\n",
    "Females=concat_data.loc[concat_data['gender']=='Female','claim_amount']"
   ]
  },
  {
   "cell_type": "code",
   "execution_count": 223,
   "id": "69a2f3ea",
   "metadata": {},
   "outputs": [
    {
     "data": {
      "text/plain": [
       "Ttest_indResult(statistic=0.821612848932144, pvalue=0.4114767802889234)"
      ]
     },
     "execution_count": 223,
     "metadata": {},
     "output_type": "execute_result"
    }
   ],
   "source": [
    "stats.ttest_ind(Males,Females)"
   ]
  },
  {
   "cell_type": "code",
   "execution_count": null,
   "id": "de9d4356",
   "metadata": {},
   "outputs": [],
   "source": [
    "#From the above statistical test we can see that pvalue=0.41 > 0.05 .So Accept Null Hypothesis."
   ]
  },
  {
   "cell_type": "markdown",
   "id": "49bea9de",
   "metadata": {},
   "source": [
    "###### Answer : There is similarities in the amount claimed by male and female"
   ]
  },
  {
   "cell_type": "markdown",
   "id": "5609406f",
   "metadata": {},
   "source": [
    "## 17. Is there any relationship between age category and segment?"
   ]
  },
  {
   "cell_type": "code",
   "execution_count": 228,
   "id": "c7f0eb8e",
   "metadata": {},
   "outputs": [
    {
     "data": {
      "text/html": [
       "<div>\n",
       "<style scoped>\n",
       "    .dataframe tbody tr th:only-of-type {\n",
       "        vertical-align: middle;\n",
       "    }\n",
       "\n",
       "    .dataframe tbody tr th {\n",
       "        vertical-align: top;\n",
       "    }\n",
       "\n",
       "    .dataframe thead th {\n",
       "        text-align: right;\n",
       "    }\n",
       "</style>\n",
       "<table border=\"1\" class=\"dataframe\">\n",
       "  <thead>\n",
       "    <tr style=\"text-align: right;\">\n",
       "      <th>Segment</th>\n",
       "      <th>Gold</th>\n",
       "      <th>Platinum</th>\n",
       "      <th>Silver</th>\n",
       "    </tr>\n",
       "    <tr>\n",
       "      <th>Age_categories</th>\n",
       "      <th></th>\n",
       "      <th></th>\n",
       "      <th></th>\n",
       "    </tr>\n",
       "  </thead>\n",
       "  <tbody>\n",
       "    <tr>\n",
       "      <th>Adult</th>\n",
       "      <td>180</td>\n",
       "      <td>160</td>\n",
       "      <td>158</td>\n",
       "    </tr>\n",
       "    <tr>\n",
       "      <th>Youth</th>\n",
       "      <td>110</td>\n",
       "      <td>118</td>\n",
       "      <td>107</td>\n",
       "    </tr>\n",
       "    <tr>\n",
       "      <th>children</th>\n",
       "      <td>96</td>\n",
       "      <td>83</td>\n",
       "      <td>81</td>\n",
       "    </tr>\n",
       "  </tbody>\n",
       "</table>\n",
       "</div>"
      ],
      "text/plain": [
       "Segment         Gold  Platinum  Silver\n",
       "Age_categories                        \n",
       "Adult            180       160     158\n",
       "Youth            110       118     107\n",
       "children          96        83      81"
      ]
     },
     "execution_count": 228,
     "metadata": {},
     "output_type": "execute_result"
    }
   ],
   "source": [
    "#We will use chi-square here.\n",
    "#Ho:No relationship b/w Age category and segment.\n",
    "#Ha:Relationship b/w Age category and segment.\n",
    "\n",
    "Frequency=pd.crosstab(concat_data['Age_categories'],concat_data['Segment'])\n",
    "Frequency"
   ]
  },
  {
   "cell_type": "code",
   "execution_count": 229,
   "id": "0880eb01",
   "metadata": {},
   "outputs": [
    {
     "data": {
      "text/plain": [
       "(1.6076859637534933,\n",
       " 0.8074100664578122,\n",
       " 4,\n",
       " array([[175.87191217, 164.48124428, 157.64684355],\n",
       "        [118.3074108 , 110.64501372, 106.04757548],\n",
       "        [ 91.82067704,  85.87374199,  82.30558097]]))"
      ]
     },
     "execution_count": 229,
     "metadata": {},
     "output_type": "execute_result"
    }
   ],
   "source": [
    "stats.chi2_contingency(Frequency)"
   ]
  },
  {
   "cell_type": "code",
   "execution_count": null,
   "id": "bbc74f57",
   "metadata": {},
   "outputs": [],
   "source": [
    "#0.80>0.05 so here we will accept null hypothesis"
   ]
  },
  {
   "cell_type": "markdown",
   "id": "792b6fef",
   "metadata": {},
   "source": [
    "###### Answer : There is no relationship b/w age catogories and segment."
   ]
  },
  {
   "cell_type": "markdown",
   "id": "f5499c97",
   "metadata": {},
   "source": [
    "## 18. The current year has shown a significant rise in claim amounts as compared to 2016-17 fiscal average which was $10,000."
   ]
  },
  {
   "cell_type": "code",
   "execution_count": 235,
   "id": "335e3264",
   "metadata": {},
   "outputs": [],
   "source": [
    "#Here we will use ttest_1samp .it is use when you compare 1sample mean with known population mean\n",
    "#Ho:No change is current year and previous year claim amount.\n",
    "#Ha: Change is current year and previous year claim amount.\n",
    "\n",
    "current_claim=concat_data['claim_amount'][concat_data['claim_date'].dt.year==2017]"
   ]
  },
  {
   "cell_type": "code",
   "execution_count": 236,
   "id": "e33d8901",
   "metadata": {},
   "outputs": [
    {
     "data": {
      "text/plain": [
       "Ttest_1sampResult(statistic=4.258588422072148, pvalue=2.3853131901637023e-05)"
      ]
     },
     "execution_count": 236,
     "metadata": {},
     "output_type": "execute_result"
    }
   ],
   "source": [
    "stats.ttest_1samp(current_claim,10000)"
   ]
  },
  {
   "cell_type": "code",
   "execution_count": null,
   "id": "b787d18b",
   "metadata": {},
   "outputs": [],
   "source": [
    "#0.05 >0.00002385 so here we will reject null hypothesis ."
   ]
  },
  {
   "cell_type": "markdown",
   "id": "3505a608",
   "metadata": {},
   "source": [
    "###### Answer : There is change in current year claim amount and previous year claim amount"
   ]
  },
  {
   "cell_type": "markdown",
   "id": "a7a08637",
   "metadata": {},
   "source": [
    "## 19. Is there any difference between age groups and insurance claims?"
   ]
  },
  {
   "cell_type": "code",
   "execution_count": 237,
   "id": "8d618600",
   "metadata": {},
   "outputs": [
    {
     "data": {
      "text/html": [
       "<div>\n",
       "<style scoped>\n",
       "    .dataframe tbody tr th:only-of-type {\n",
       "        vertical-align: middle;\n",
       "    }\n",
       "\n",
       "    .dataframe tbody tr th {\n",
       "        vertical-align: top;\n",
       "    }\n",
       "\n",
       "    .dataframe thead th {\n",
       "        text-align: right;\n",
       "    }\n",
       "</style>\n",
       "<table border=\"1\" class=\"dataframe\">\n",
       "  <thead>\n",
       "    <tr style=\"text-align: right;\">\n",
       "      <th></th>\n",
       "      <th>Age_categories</th>\n",
       "      <th>claim_amount</th>\n",
       "    </tr>\n",
       "  </thead>\n",
       "  <tbody>\n",
       "    <tr>\n",
       "      <th>0</th>\n",
       "      <td>Adult</td>\n",
       "      <td>2980.0</td>\n",
       "    </tr>\n",
       "    <tr>\n",
       "      <th>1</th>\n",
       "      <td>Adult</td>\n",
       "      <td>2980.0</td>\n",
       "    </tr>\n",
       "    <tr>\n",
       "      <th>2</th>\n",
       "      <td>Adult</td>\n",
       "      <td>3369.5</td>\n",
       "    </tr>\n",
       "    <tr>\n",
       "      <th>3</th>\n",
       "      <td>Adult</td>\n",
       "      <td>1680.0</td>\n",
       "    </tr>\n",
       "    <tr>\n",
       "      <th>4</th>\n",
       "      <td>Adult</td>\n",
       "      <td>2680.0</td>\n",
       "    </tr>\n",
       "    <tr>\n",
       "      <th>...</th>\n",
       "      <td>...</td>\n",
       "      <td>...</td>\n",
       "    </tr>\n",
       "    <tr>\n",
       "      <th>1088</th>\n",
       "      <td>children</td>\n",
       "      <td>3059.0</td>\n",
       "    </tr>\n",
       "    <tr>\n",
       "      <th>1089</th>\n",
       "      <td>children</td>\n",
       "      <td>1520.0</td>\n",
       "    </tr>\n",
       "    <tr>\n",
       "      <th>1090</th>\n",
       "      <td>children</td>\n",
       "      <td>23575.0</td>\n",
       "    </tr>\n",
       "    <tr>\n",
       "      <th>1091</th>\n",
       "      <td>children</td>\n",
       "      <td>25120.0</td>\n",
       "    </tr>\n",
       "    <tr>\n",
       "      <th>1092</th>\n",
       "      <td>children</td>\n",
       "      <td>36685.0</td>\n",
       "    </tr>\n",
       "  </tbody>\n",
       "</table>\n",
       "<p>1093 rows × 2 columns</p>\n",
       "</div>"
      ],
      "text/plain": [
       "     Age_categories  claim_amount\n",
       "0             Adult        2980.0\n",
       "1             Adult        2980.0\n",
       "2             Adult        3369.5\n",
       "3             Adult        1680.0\n",
       "4             Adult        2680.0\n",
       "...             ...           ...\n",
       "1088       children        3059.0\n",
       "1089       children        1520.0\n",
       "1090       children       23575.0\n",
       "1091       children       25120.0\n",
       "1092       children       36685.0\n",
       "\n",
       "[1093 rows x 2 columns]"
      ]
     },
     "execution_count": 237,
     "metadata": {},
     "output_type": "execute_result"
    }
   ],
   "source": [
    "concat_data[['Age_categories','claim_amount']]"
   ]
  },
  {
   "cell_type": "code",
   "execution_count": 239,
   "id": "35b3c146",
   "metadata": {},
   "outputs": [
    {
     "data": {
      "text/plain": [
       "array(['Adult', 'Youth', 'children'], dtype=object)"
      ]
     },
     "execution_count": 239,
     "metadata": {},
     "output_type": "execute_result"
    }
   ],
   "source": [
    "concat_data['Age_categories'].unique()"
   ]
  },
  {
   "cell_type": "code",
   "execution_count": 243,
   "id": "f31ff2af",
   "metadata": {},
   "outputs": [],
   "source": [
    "Adult=concat_data['claim_amount'][concat_data['Age_categories']=='Adult']\n",
    "Youth=concat_data['claim_amount'][concat_data['Age_categories']=='Youth']\n",
    "children=concat_data['claim_amount'][concat_data['Age_categories']=='children']"
   ]
  },
  {
   "cell_type": "code",
   "execution_count": 244,
   "id": "4bb372b9",
   "metadata": {},
   "outputs": [],
   "source": [
    "#Here we will use annova test as we are going compaire more than 3 groups.\n",
    "\n",
    "#Ho:there is no difference\n",
    "#Ha:there is difference"
   ]
  },
  {
   "cell_type": "code",
   "execution_count": 245,
   "id": "64ae8e46",
   "metadata": {},
   "outputs": [
    {
     "data": {
      "text/plain": [
       "F_onewayResult(statistic=2.2037228388804517, pvalue=0.1108830313065247)"
      ]
     },
     "execution_count": 245,
     "metadata": {},
     "output_type": "execute_result"
    }
   ],
   "source": [
    "stats.f_oneway(Adult,Youth,children)"
   ]
  },
  {
   "cell_type": "code",
   "execution_count": null,
   "id": "d1625731",
   "metadata": {},
   "outputs": [],
   "source": [
    "#0.05<0.11 .so here we will Accept Null Hypothesis"
   ]
  },
  {
   "cell_type": "markdown",
   "id": "47109a82",
   "metadata": {},
   "source": [
    "###### Answer : There is no difference between age groups and insurance claim"
   ]
  },
  {
   "cell_type": "markdown",
   "id": "208f6366",
   "metadata": {},
   "source": [
    "## 20. Is there any relationship between total number of policy claims and the claimed amount?"
   ]
  },
  {
   "cell_type": "code",
   "execution_count": 248,
   "id": "2b33a28f",
   "metadata": {},
   "outputs": [
    {
     "data": {
      "text/html": [
       "<div>\n",
       "<style scoped>\n",
       "    .dataframe tbody tr th:only-of-type {\n",
       "        vertical-align: middle;\n",
       "    }\n",
       "\n",
       "    .dataframe tbody tr th {\n",
       "        vertical-align: top;\n",
       "    }\n",
       "\n",
       "    .dataframe thead th {\n",
       "        text-align: right;\n",
       "    }\n",
       "</style>\n",
       "<table border=\"1\" class=\"dataframe\">\n",
       "  <thead>\n",
       "    <tr style=\"text-align: right;\">\n",
       "      <th></th>\n",
       "      <th>total_policy_claims</th>\n",
       "      <th>claim_amount</th>\n",
       "    </tr>\n",
       "  </thead>\n",
       "  <tbody>\n",
       "    <tr>\n",
       "      <th>total_policy_claims</th>\n",
       "      <td>1.000000</td>\n",
       "      <td>-0.016409</td>\n",
       "    </tr>\n",
       "    <tr>\n",
       "      <th>claim_amount</th>\n",
       "      <td>-0.016409</td>\n",
       "      <td>1.000000</td>\n",
       "    </tr>\n",
       "  </tbody>\n",
       "</table>\n",
       "</div>"
      ],
      "text/plain": [
       "                     total_policy_claims  claim_amount\n",
       "total_policy_claims             1.000000     -0.016409\n",
       "claim_amount                   -0.016409      1.000000"
      ]
     },
     "execution_count": 248,
     "metadata": {},
     "output_type": "execute_result"
    }
   ],
   "source": [
    "concat_data[['total_policy_claims','claim_amount']].corr()"
   ]
  },
  {
   "cell_type": "markdown",
   "id": "4aaad6ce",
   "metadata": {},
   "source": [
    "###### Answer : there is negative relationship between total policy claims and claim amount"
   ]
  },
  {
   "cell_type": "code",
   "execution_count": null,
   "id": "4921497a",
   "metadata": {},
   "outputs": [],
   "source": []
  }
 ],
 "metadata": {
  "kernelspec": {
   "display_name": "Python 3",
   "language": "python",
   "name": "python3"
  },
  "language_info": {
   "codemirror_mode": {
    "name": "ipython",
    "version": 3
   },
   "file_extension": ".py",
   "mimetype": "text/x-python",
   "name": "python",
   "nbconvert_exporter": "python",
   "pygments_lexer": "ipython3",
   "version": "3.8.8"
  }
 },
 "nbformat": 4,
 "nbformat_minor": 5
}
